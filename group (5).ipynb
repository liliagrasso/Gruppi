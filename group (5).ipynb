{
 "cells": [
  {
   "cell_type": "code",
   "execution_count": 1,
   "metadata": {},
   "outputs": [],
   "source": [
    "import pandas as pd\n",
    "import numpy as np\n",
    "import random"
   ]
  },
  {
   "cell_type": "code",
   "execution_count": 13,
   "metadata": {},
   "outputs": [
    {
     "data": {
      "text/html": [
       "<div>\n",
       "<style scoped>\n",
       "    .dataframe tbody tr th:only-of-type {\n",
       "        vertical-align: middle;\n",
       "    }\n",
       "\n",
       "    .dataframe tbody tr th {\n",
       "        vertical-align: top;\n",
       "    }\n",
       "\n",
       "    .dataframe thead th {\n",
       "        text-align: right;\n",
       "    }\n",
       "</style>\n",
       "<table border=\"1\" class=\"dataframe\">\n",
       "  <thead>\n",
       "    <tr style=\"text-align: right;\">\n",
       "      <th></th>\n",
       "      <th>Cognome</th>\n",
       "      <th>Nome</th>\n",
       "      <th>Telegram</th>\n",
       "      <th>Anno</th>\n",
       "      <th>Laurea Triennale in</th>\n",
       "      <th>Condizione studente</th>\n",
       "      <th>Machine Learning</th>\n",
       "      <th>Sostenimento (ML)</th>\n",
       "      <th>Data Management e Viz</th>\n",
       "      <th>Sostenimento (DM e Viz)</th>\n",
       "      <th>Juridical</th>\n",
       "      <th>Statistics</th>\n",
       "      <th>Unnamed: 12</th>\n",
       "      <th>Unnamed: 13</th>\n",
       "      <th>Unnamed: 14</th>\n",
       "    </tr>\n",
       "  </thead>\n",
       "  <tbody>\n",
       "    <tr>\n",
       "      <th>0</th>\n",
       "      <td>Bencini</td>\n",
       "      <td>Niccolò</td>\n",
       "      <td>nbencini</td>\n",
       "      <td>2°anno</td>\n",
       "      <td>Economia e Commercio L-33</td>\n",
       "      <td>100% Studente</td>\n",
       "      <td>NaN</td>\n",
       "      <td>NaN</td>\n",
       "      <td>NaN</td>\n",
       "      <td>NaN</td>\n",
       "      <td>NaN</td>\n",
       "      <td>NaN</td>\n",
       "      <td>NaN</td>\n",
       "      <td>NaN</td>\n",
       "      <td>X=Sto cercando un gruppo</td>\n",
       "    </tr>\n",
       "    <tr>\n",
       "      <th>1</th>\n",
       "      <td>Carrasco</td>\n",
       "      <td>Hellem</td>\n",
       "      <td>Hellem26</td>\n",
       "      <td>1° anno</td>\n",
       "      <td>Economia e amministrazione delle imprese</td>\n",
       "      <td>100% Studente</td>\n",
       "      <td>x</td>\n",
       "      <td>Gennaio/Febbraio</td>\n",
       "      <td>x</td>\n",
       "      <td>Gennaio/Febbraio</td>\n",
       "      <td>NaN</td>\n",
       "      <td>NaN</td>\n",
       "      <td>NaN</td>\n",
       "      <td>NaN</td>\n",
       "      <td>NaN</td>\n",
       "    </tr>\n",
       "    <tr>\n",
       "      <th>2</th>\n",
       "      <td>Lorgna</td>\n",
       "      <td>Lorenzo</td>\n",
       "      <td>lorenzolorgna</td>\n",
       "      <td>1° anno</td>\n",
       "      <td>Informatica</td>\n",
       "      <td>100% Studente</td>\n",
       "      <td>NaN</td>\n",
       "      <td>NaN</td>\n",
       "      <td>NaN</td>\n",
       "      <td>NaN</td>\n",
       "      <td>NaN</td>\n",
       "      <td>NaN</td>\n",
       "      <td>NaN</td>\n",
       "      <td>NaN</td>\n",
       "      <td>NaN</td>\n",
       "    </tr>\n",
       "    <tr>\n",
       "      <th>3</th>\n",
       "      <td>Caparello</td>\n",
       "      <td>Gaia</td>\n",
       "      <td>Gaia Caparello</td>\n",
       "      <td>1° anno</td>\n",
       "      <td>Economia e Commercio L-33</td>\n",
       "      <td>100% Studente</td>\n",
       "      <td>NaN</td>\n",
       "      <td>NaN</td>\n",
       "      <td>X</td>\n",
       "      <td>Giugno/Luglio</td>\n",
       "      <td>NaN</td>\n",
       "      <td>NaN</td>\n",
       "      <td>NaN</td>\n",
       "      <td>NaN</td>\n",
       "      <td>NaN</td>\n",
       "    </tr>\n",
       "    <tr>\n",
       "      <th>4</th>\n",
       "      <td>Messina</td>\n",
       "      <td>Sabrina</td>\n",
       "      <td>totanella</td>\n",
       "      <td>1° anno</td>\n",
       "      <td>Economia Internazionale</td>\n",
       "      <td>100% Studente</td>\n",
       "      <td>NaN</td>\n",
       "      <td>NaN</td>\n",
       "      <td>X</td>\n",
       "      <td>Giugno/Luglio</td>\n",
       "      <td>NaN</td>\n",
       "      <td>NaN</td>\n",
       "      <td>NaN</td>\n",
       "      <td>NaN</td>\n",
       "      <td>NaN</td>\n",
       "    </tr>\n",
       "    <tr>\n",
       "      <th>...</th>\n",
       "      <td>...</td>\n",
       "      <td>...</td>\n",
       "      <td>...</td>\n",
       "      <td>...</td>\n",
       "      <td>...</td>\n",
       "      <td>...</td>\n",
       "      <td>...</td>\n",
       "      <td>...</td>\n",
       "      <td>...</td>\n",
       "      <td>...</td>\n",
       "      <td>...</td>\n",
       "      <td>...</td>\n",
       "      <td>...</td>\n",
       "      <td>...</td>\n",
       "      <td>...</td>\n",
       "    </tr>\n",
       "    <tr>\n",
       "      <th>92</th>\n",
       "      <td>Girasoli</td>\n",
       "      <td>Corradino</td>\n",
       "      <td>corgira</td>\n",
       "      <td>1° anno</td>\n",
       "      <td>Intermediari Finanziari (magistrale)</td>\n",
       "      <td>100% Lavoratore</td>\n",
       "      <td>X</td>\n",
       "      <td>X</td>\n",
       "      <td>X</td>\n",
       "      <td>X</td>\n",
       "      <td>NaN</td>\n",
       "      <td>X</td>\n",
       "      <td>NaN</td>\n",
       "      <td>NaN</td>\n",
       "      <td>NaN</td>\n",
       "    </tr>\n",
       "    <tr>\n",
       "      <th>93</th>\n",
       "      <td>Olzojevs</td>\n",
       "      <td>Artjoms</td>\n",
       "      <td>olzojevs</td>\n",
       "      <td>1° anno</td>\n",
       "      <td>Economia e Amministrazione delle imprese</td>\n",
       "      <td>100% Lavoratore</td>\n",
       "      <td>X</td>\n",
       "      <td>NaN</td>\n",
       "      <td>X</td>\n",
       "      <td>Gennaio/Febbraio</td>\n",
       "      <td>X</td>\n",
       "      <td>X</td>\n",
       "      <td>NaN</td>\n",
       "      <td>NaN</td>\n",
       "      <td>NaN</td>\n",
       "    </tr>\n",
       "    <tr>\n",
       "      <th>94</th>\n",
       "      <td>Distrutti</td>\n",
       "      <td>Marco</td>\n",
       "      <td>Marco Distrutti</td>\n",
       "      <td>2°anno</td>\n",
       "      <td>Informatica</td>\n",
       "      <td>50% Studente - 50% Lavoratore</td>\n",
       "      <td>X</td>\n",
       "      <td>Gennaio/Febbraio</td>\n",
       "      <td>NaN</td>\n",
       "      <td>NaN</td>\n",
       "      <td>NaN</td>\n",
       "      <td>NaN</td>\n",
       "      <td>NaN</td>\n",
       "      <td>NaN</td>\n",
       "      <td>NaN</td>\n",
       "    </tr>\n",
       "    <tr>\n",
       "      <th>95</th>\n",
       "      <td>Colzani</td>\n",
       "      <td>Cesare</td>\n",
       "      <td>Cesare Colzani</td>\n",
       "      <td>1 anno</td>\n",
       "      <td>Economia</td>\n",
       "      <td>NaN</td>\n",
       "      <td>X</td>\n",
       "      <td>Gennaio/Febbraio</td>\n",
       "      <td>X</td>\n",
       "      <td>Gennaio/Febbraio</td>\n",
       "      <td>NaN</td>\n",
       "      <td>X</td>\n",
       "      <td>NaN</td>\n",
       "      <td>NaN</td>\n",
       "      <td>NaN</td>\n",
       "    </tr>\n",
       "    <tr>\n",
       "      <th>96</th>\n",
       "      <td>NaN</td>\n",
       "      <td>NaN</td>\n",
       "      <td>NaN</td>\n",
       "      <td>NaN</td>\n",
       "      <td>NaN</td>\n",
       "      <td>NaN</td>\n",
       "      <td>NaN</td>\n",
       "      <td>NaN</td>\n",
       "      <td>NaN</td>\n",
       "      <td>Gennaio/Febbraio</td>\n",
       "      <td>NaN</td>\n",
       "      <td>NaN</td>\n",
       "      <td>NaN</td>\n",
       "      <td>NaN</td>\n",
       "      <td>NaN</td>\n",
       "    </tr>\n",
       "  </tbody>\n",
       "</table>\n",
       "<p>97 rows × 15 columns</p>\n",
       "</div>"
      ],
      "text/plain": [
       "     Cognome        Nome         Telegram    Anno   \\\n",
       "0     Bencini    Niccolò         nbencini   2°anno   \n",
       "1    Carrasco     Hellem         Hellem26  1° anno   \n",
       "2      Lorgna    Lorenzo    lorenzolorgna  1° anno   \n",
       "3   Caparello       Gaia   Gaia Caparello  1° anno   \n",
       "4     Messina    Sabrina        totanella  1° anno   \n",
       "..        ...        ...              ...      ...   \n",
       "92   Girasoli  Corradino          corgira  1° anno   \n",
       "93   Olzojevs    Artjoms         olzojevs  1° anno   \n",
       "94  Distrutti      Marco  Marco Distrutti   2°anno   \n",
       "95    Colzani     Cesare   Cesare Colzani   1 anno   \n",
       "96        NaN        NaN              NaN      NaN   \n",
       "\n",
       "                        Laurea Triennale in            Condizione studente   \\\n",
       "0                  Economia e Commercio L-33                  100% Studente   \n",
       "1   Economia e amministrazione delle imprese                  100% Studente   \n",
       "2                                Informatica                  100% Studente   \n",
       "3                  Economia e Commercio L-33                  100% Studente   \n",
       "4                    Economia Internazionale                  100% Studente   \n",
       "..                                       ...                            ...   \n",
       "92      Intermediari Finanziari (magistrale)                100% Lavoratore   \n",
       "93  Economia e Amministrazione delle imprese                100% Lavoratore   \n",
       "94                               Informatica  50% Studente - 50% Lavoratore   \n",
       "95                                 Economia                             NaN   \n",
       "96                                       NaN                            NaN   \n",
       "\n",
       "   Machine Learning Sostenimento (ML) Data Management e Viz   \\\n",
       "0               NaN               NaN                    NaN   \n",
       "1                 x  Gennaio/Febbraio                      x   \n",
       "2               NaN               NaN                    NaN   \n",
       "3               NaN               NaN                      X   \n",
       "4               NaN               NaN                      X   \n",
       "..              ...               ...                    ...   \n",
       "92                X                 X                      X   \n",
       "93                X               NaN                      X   \n",
       "94                X  Gennaio/Febbraio                    NaN   \n",
       "95                X  Gennaio/Febbraio                      X   \n",
       "96              NaN               NaN                    NaN   \n",
       "\n",
       "   Sostenimento (DM e Viz) Juridical  Statistics  Unnamed: 12  Unnamed: 13  \\\n",
       "0                      NaN        NaN        NaN          NaN          NaN   \n",
       "1         Gennaio/Febbraio        NaN        NaN          NaN          NaN   \n",
       "2                      NaN        NaN        NaN          NaN          NaN   \n",
       "3            Giugno/Luglio        NaN        NaN          NaN          NaN   \n",
       "4            Giugno/Luglio        NaN        NaN          NaN          NaN   \n",
       "..                     ...        ...        ...          ...          ...   \n",
       "92                       X        NaN          X          NaN          NaN   \n",
       "93        Gennaio/Febbraio          X          X          NaN          NaN   \n",
       "94                     NaN        NaN        NaN          NaN          NaN   \n",
       "95        Gennaio/Febbraio        NaN          X          NaN          NaN   \n",
       "96        Gennaio/Febbraio        NaN        NaN          NaN          NaN   \n",
       "\n",
       "                 Unnamed: 14  \n",
       "0   X=Sto cercando un gruppo  \n",
       "1                        NaN  \n",
       "2                        NaN  \n",
       "3                        NaN  \n",
       "4                        NaN  \n",
       "..                       ...  \n",
       "92                       NaN  \n",
       "93                       NaN  \n",
       "94                       NaN  \n",
       "95                       NaN  \n",
       "96                       NaN  \n",
       "\n",
       "[97 rows x 15 columns]"
      ]
     },
     "execution_count": 13,
     "metadata": {},
     "output_type": "execute_result"
    }
   ],
   "source": [
    "gruppi = pd.read_csv(\"Gruppi Data Science 2020 - 21 - Foglio1 (1).csv\")\n",
    "gruppi"
   ]
  },
  {
   "cell_type": "code",
   "execution_count": 14,
   "metadata": {},
   "outputs": [],
   "source": [
    "#split in months\n",
    "gennaiofebML =gruppi[gruppi['Sostenimento (ML)'] == 'Gennaio/Febbraio']\n",
    "gennaiofebDataMan = gruppi[gruppi['Sostenimento (DM e Viz)'] == 'Gennaio/Febbraio']\n",
    "giugnlugML =gruppi[gruppi['Sostenimento (ML)'] == 'Giugno/Luglio']\n",
    "giugnlugDataMan = gruppi[gruppi['Sostenimento (DM e Viz)'] == 'Giugno/Luglio']\n"
   ]
  },
  {
   "cell_type": "code",
   "execution_count": 15,
   "metadata": {},
   "outputs": [],
   "source": [
    "#split in groups\n",
    "gruppiMLgenfeb= gennaiofebML[(gennaiofebML['Machine Learning'] == 'X') | (gennaiofebML['Machine Learning'] == 'X')]\n",
    "gruppiDataMangenfeb= gennaiofebDataMan[(gennaiofebDataMan['Data Management e Viz '] == 'X') | (gennaiofebDataMan['Data Management e Viz '] == 'X')]\n",
    "gruppigiugnlugML= giugnlugML[(giugnlugML['Machine Learning'] == 'X') | (giugnlugML['Machine Learning'] == 'x')]\n",
    "gruppigiugnlugDataMan= giugnlugDataMan[(giugnlugDataMan['Data Management e Viz '] == 'X') | (giugnlugDataMan['Data Management e Viz '] == 'X')]\n",
    "gruppistat= gruppi[(gruppi['Statistics']=='X') | (gruppi['Statistics']=='x')]\n",
    "gruppisocial= gruppi[(gruppi['Juridical ']=='X') | (gruppi['Juridical ']=='x')]"
   ]
  },
  {
   "cell_type": "code",
   "execution_count": 16,
   "metadata": {},
   "outputs": [],
   "source": [
    "listaMLgf=list(gruppiMLgenfeb['Telegram'])\n",
    "listadmvgf=list(gruppiDataMangenfeb['Telegram'])\n",
    "listastat=list(gruppistat['Telegram'])\n",
    "listasocial=list(gruppisocial['Telegram'])\n",
    "listaMLgiulu=list(gruppigiugnlugML['Telegram'])\n",
    "listadmvgiulu=list(gruppigiugnlugDataMan['Telegram'])\n",
    "\n",
    "datamanevizgf={}\n",
    "datamanevizgl={}\n",
    "machinelearning={}\n",
    "statistica={}\n",
    "social={}\n",
    "mlgf={}\n",
    "mlgl={}\n",
    "\n",
    "\n",
    "def gruppifun(list,dizionario,number):\n",
    "    res = [ele for ele in list]\n",
    "    n_groups = int(len(list)/number)\n",
    "    for i in range(0,n_groups):\n",
    "        dizionario[i] = np.random.choice(res,number,replace=False)\n",
    "        for value in dizionario.get(i):\n",
    "            if value in res:\n",
    "                res.remove(value)\n",
    "    if ((len(list)%2 != 0) or ((len(list)/number)%2 != 0)):\n",
    "        print(f\" mi dispiace {res} ma sei rimasto da solo\")\n",
    "    return dizionario"
   ]
  },
  {
   "cell_type": "code",
   "execution_count": 17,
   "metadata": {},
   "outputs": [
    {
     "data": {
      "text/plain": [
       "{0: array(['Sfiber_17', 'Claudius9f', 'Maur02', 'Marco Distrutti'],\n",
       "       dtype='<U15'),\n",
       " 1: array(['luca_maggi', 'done96', 'm_marti92', 'Matteo Cesaro'], dtype='<U15'),\n",
       " 2: array(['MiryamBaryoli', 'Gabriele Pagani', 'Matteo', 'jmarcozzi'],\n",
       "       dtype='<U15'),\n",
       " 3: array(['Elodie_username', 'davide', 'Alice910', 'Cesare Colzani'],\n",
       "       dtype='<U15')}"
      ]
     },
     "execution_count": 17,
     "metadata": {},
     "output_type": "execute_result"
    }
   ],
   "source": [
    "#Gruppi Machine Learning per Giugno Febbraio\n",
    "gruppifun(listaMLgf,mlgf,4)"
   ]
  },
  {
   "cell_type": "code",
   "execution_count": 18,
   "metadata": {},
   "outputs": [
    {
     "name": "stdout",
     "output_type": "stream",
     "text": [
      " mi dispiace ['jmarcozzi', 'olzojevs'] ma sei rimasto da solo\n"
     ]
    },
    {
     "data": {
      "text/plain": [
       "{0: array(['GiadaVigorito', 'Daniele', 'Maur02'], dtype='<U16'),\n",
       " 1: array(['Venturovic', 'm_marti92', 'Donzish'], dtype='<U16'),\n",
       " 2: array(['Monica Vivace ', 'Cesare Colzani', 'cicciospampinato'],\n",
       "       dtype='<U16'),\n",
       " 3: array(['Lucaguid8', 'done96', 'Claudius9f'], dtype='<U10')}"
      ]
     },
     "execution_count": 18,
     "metadata": {},
     "output_type": "execute_result"
    }
   ],
   "source": [
    "#Gruppi Data Man per Gennaio Febbraio\n",
    "gruppifun(listadmvgf,datamanevizgf,3)"
   ]
  },
  {
   "cell_type": "code",
   "execution_count": 19,
   "metadata": {},
   "outputs": [
    {
     "name": "stdout",
     "output_type": "stream",
     "text": [
      " mi dispiace [] ma sei rimasto da solo\n"
     ]
    },
    {
     "data": {
      "text/plain": [
       "{0: array(['Matteo', 'Vito Francone'], dtype='<U20'),\n",
       " 1: array(['MiryamBaryoli', 'gretav29'], dtype='<U20'),\n",
       " 2: array(['corgira', 'huaman10'], dtype='<U20'),\n",
       " 3: array(['camilladibartolomeo', 'Yousef Bahri'], dtype='<U20'),\n",
       " 4: array(['Francesco Martinelli', 'olzojevs'], dtype='<U20'),\n",
       " 5: array(['Cesare Colzani', 'gabriele strano'], dtype='<U15'),\n",
       " 6: array(['m_marti92', 'Monica Vivace '], dtype='<U14')}"
      ]
     },
     "execution_count": 19,
     "metadata": {},
     "output_type": "execute_result"
    }
   ],
   "source": [
    "#Gruppi Statistica\n",
    "gruppifun(listastat,statistica,2)"
   ]
  },
  {
   "cell_type": "code",
   "execution_count": 20,
   "metadata": {},
   "outputs": [
    {
     "data": {
      "text/plain": [
       "{0: array(['ChristianInterno', 'olzojevs'], dtype='<U20'),\n",
       " 1: array(['DanQ98', 'elenoire1311'], dtype='<U20'),\n",
       " 2: array(['Marco_Brn', 'CristianoRuttico'], dtype='<U20'),\n",
       " 3: array(['Francesco Martinelli', 'stefanomarzo'], dtype='<U20'),\n",
       " 4: array(['Angelica Barrion', 'Adele Zanfino'], dtype='<U16'),\n",
       " 5: array(['Yousef Bahri', 'jmarcozzi'], dtype='<U12')}"
      ]
     },
     "execution_count": 20,
     "metadata": {},
     "output_type": "execute_result"
    }
   ],
   "source": [
    "#Gruppi social issues\n",
    "gruppifun(listasocial,social,2)"
   ]
  },
  {
   "cell_type": "code",
   "execution_count": 23,
   "metadata": {},
   "outputs": [
    {
     "name": "stdout",
     "output_type": "stream",
     "text": [
      " mi dispiace ['camilladibartolomeo', 'Laura Cavenati'] ma sei rimasto da solo\n"
     ]
    },
    {
     "data": {
      "text/plain": [
       "{0: array(['Raffaele Moretti', 'davide', 'Claudio97'], dtype='<U19'),\n",
       " 1: array(['Sfiber_17', 'ildandi97', 'Matteo'], dtype='<U19'),\n",
       " 2: array(['MiryamBaryoli', 'Vito Francone', 'Alice910'], dtype='<U19'),\n",
       " 3: array(['totanella', 'Andrea', 'Gaia Caparello'], dtype='<U19')}"
      ]
     },
     "execution_count": 23,
     "metadata": {},
     "output_type": "execute_result"
    }
   ],
   "source": [
    "#Gruppi Data Man e Viz Giugno Luglio\n",
    "gruppifun(listadmvgiulu,datamanevizgl,3)"
   ]
  },
  {
   "cell_type": "code",
   "execution_count": 22,
   "metadata": {},
   "outputs": [
    {
     "name": "stdout",
     "output_type": "stream",
     "text": [
      " mi dispiace [] ma sei rimasto da solo\n"
     ]
    },
    {
     "data": {
      "text/plain": [
       "{0: array(['Claudio97', 'Monica Vivace ', 'GiadaVigorito'], dtype='<U14')}"
      ]
     },
     "execution_count": 22,
     "metadata": {},
     "output_type": "execute_result"
    }
   ],
   "source": [
    "#Gruppi Machine Learning Giugno Luglio\n",
    "gruppifun(listaMLgiulu,mlgl,3)"
   ]
  }
 ],
 "metadata": {
  "kernelspec": {
   "display_name": "Python 3",
   "language": "python",
   "name": "python3"
  },
  "language_info": {
   "codemirror_mode": {
    "name": "ipython",
    "version": 3
   },
   "file_extension": ".py",
   "mimetype": "text/x-python",
   "name": "python",
   "nbconvert_exporter": "python",
   "pygments_lexer": "ipython3",
   "version": "3.7.6"
  }
 },
 "nbformat": 4,
 "nbformat_minor": 4
}
